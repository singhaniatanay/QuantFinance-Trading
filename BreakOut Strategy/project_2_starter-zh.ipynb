{
 "cells": [
  {
   "cell_type": "markdown",
   "metadata": {},
   "source": [
    "# 实战项目 2：突破策略\n",
    "## 说明\n",
    "每个问题都包含需要实现的函数和如何实现该函数的说明。`# TODO` 注释表示需要实现的函数部分。实现函数后，请运行单元格并用我们提供的单元测试检测代码。对于每个问题，我们都在  `project_tests`  软件包中提供了一个或多个单元测试。这些单元测试不会指出你的答案是否正确，但是会提醒你重大错误。当你提交项目后，我们会检查你的答案是否正确。\n",
    "\n",
    "## 软件包\n",
    "在实现函数时，你只需使用在教室中用到的软件包，例如 [Pandas](https://pandas.pydata.org/) 和 [Numpy](http://www.numpy.org/)。我们会为你导入这些软件包。建议不要添加任何其他导入语句，否则打分老师可能无法运行你的代码。\n",
    "\n",
    "我们还导入了以下其他软件包：`helper`、`project_helper_zh` 和 `project_tests`。这些是专门帮助你解决问题的自定义软件包。`helper` 和 `project_helper_zh` 模块包含实用函数和图形函数。 `project_tests` 包含所有问题的单元测试。\n",
    "\n",
    "### 安装软件包"
   ]
  },
  {
   "cell_type": "code",
   "execution_count": null,
   "metadata": {},
   "outputs": [],
   "source": [
    "import sys\n",
    "!{sys.executable} -m pip install -r requirements-zh.txt"
   ]
  },
  {
   "cell_type": "markdown",
   "metadata": {},
   "source": [
    "### 加载软件包"
   ]
  },
  {
   "cell_type": "code",
   "execution_count": null,
   "metadata": {},
   "outputs": [],
   "source": [
    "import pandas as pd\n",
    "import numpy as np\n",
    "import helper\n",
    "import project_helper_zh\n",
    "import project_tests"
   ]
  },
  {
   "cell_type": "markdown",
   "metadata": {},
   "source": [
    "## 市场数据\n",
    "### 加载数据\n",
    "虽然使用真实数据能够带来实践经验，但是并不能在一个实战项目中涵盖所有概念。为了解决这个问题，我们将创建几个虚拟股票。我们假设开采[铽](https://en.wikipedia.org/wiki/Terbium)的公司利润丰厚。这个行业的所有公司都是虚构的。它们代表了一个增长迅速的行业，之后演示时会用到这个行业。"
   ]
  },
  {
   "cell_type": "code",
   "execution_count": null,
   "metadata": {},
   "outputs": [],
   "source": [
    "df_original = pd.read_csv('../../data/project_2/eod-quotemedia.csv', parse_dates=['date'], index_col=False)\n",
    "\n",
    "# Add TB sector to the market\n",
    "df = df_original\n",
    "df = pd.concat([df] + project_helper_zh.generate_tb_sector(df[df['ticker'] == 'AAPL']['date']), ignore_index=True)\n",
    "\n",
    "close = df.reset_index().pivot(index='date', columns='ticker', values='adj_close')\n",
    "high = df.reset_index().pivot(index='date', columns='ticker', values='adj_high')\n",
    "low = df.reset_index().pivot(index='date', columns='ticker', values='adj_low')\n",
    "\n",
    "print('Loaded Data')"
   ]
  },
  {
   "cell_type": "markdown",
   "metadata": {},
   "source": [
    "### 查看数据\n",
    "为了查看这些二维矩阵是什么样的，我们看看收盘价矩阵。"
   ]
  },
  {
   "cell_type": "code",
   "execution_count": null,
   "metadata": {},
   "outputs": [],
   "source": [
    "close"
   ]
  },
  {
   "cell_type": "markdown",
   "metadata": {},
   "source": [
    "### 股票示例\n",
    "我们通过收盘价矩阵看看单个股票是什么样的。对于此示例以及此项目中的后续其他示例，我们将使用 Apple 的股票 (AAPL)。如果要绘制所有股票的图形，那么信息太多了。"
   ]
  },
  {
   "cell_type": "code",
   "execution_count": null,
   "metadata": {},
   "outputs": [],
   "source": [
    "apple_ticker = 'AAPL'\n",
    "project_helper_zh.plot_stock(close[apple_ticker], '{} Stock'.format(apple_ticker))"
   ]
  },
  {
   "cell_type": "markdown",
   "metadata": {},
   "source": [
    "## Alpha 研究流程\n",
    "\n",
    "在此项目中，你需要编写并评估“突破”信号。务必要了解这些步骤在 alpha 研究工作流程中所处的阶段。交易信号中的信噪比很低，很容易过拟合噪点。所以不建议立即开始信号编程。为了避免过拟合，建议先提出一般的假设，即在处理任何数据之前，你应该能够回答以下问题：\n",
    "\n",
    "> 什么样的市场或投资者行为特征会导致一直出现的异常，并且我的信号可以使用这种异常？\n",
    "\n",
    "理想情况下，在开始编程和评估信号本身之前，应该能够测试假设条件。工作流程如下所示：\n",
    "\n",
    "![image](images/alpha_steps.png)\n",
    "\n",
    "在此项目中，我们假定前三个步骤（观察和研究、提出假设、验证假设）已经完成。对于此项目，你将用到以下假设：\n",
    "- 在没有重大新闻或出现明显的投资者交易兴趣时，股票会在一定范围内波动。\n",
    "- 为了根据这种遵守一定范围规律的行为获利，交易者会定期卖出/做空范围顶部的股票并买入/做多范围底部的股票。这种行为进一步加强了这个范围的存在。\n",
    "- 当股票因为重大新闻或大型投资者带来的市场压力而突破这个范围时：\n",
    "    - 流动性交易者在范围界限处提供流动性，他们希望平仓来减少损失，因此会加大超出范围的影响，_并且_\n",
    "    - 超出范围会吸引其他投资者；由于_羊群效应_ （例如[从众行为](https://www.investopedia.com/university/behavioral_finance/behavioral8.asp)），这些投资者建立的头寸会倾向于延续这种趋势。\n",
    "\n",
    "\n",
    "我们利用这种假设开始编程吧。\n",
    "## 计算窗口中的高低价格\n",
    "我们将根据高低价格创建突破策略。在此部分，请实现 `get_high_lows_lookback` 以获得窗口期内的最高价格和最低价格。变量 `lookback_days` 包含要查看的过去日期，请勿包含当前日期。"
   ]
  },
  {
   "cell_type": "code",
   "execution_count": null,
   "metadata": {},
   "outputs": [],
   "source": [
    "def get_high_lows_lookback(high, low, lookback_days):\n",
    "    \"\"\"\n",
    "    Get the highs and lows in a lookback window.\n",
    "    \n",
    "    Parameters\n",
    "    ----------\n",
    "    high : DataFrame\n",
    "        High price for each ticker and date\n",
    "    low : DataFrame\n",
    "        Low price for each ticker and date\n",
    "    lookback_days : int\n",
    "        The number of days to look back\n",
    "    \n",
    "    Returns\n",
    "    -------\n",
    "    lookback_high : DataFrame\n",
    "        Lookback high price for each ticker and date\n",
    "    lookback_low : DataFrame\n",
    "        Lookback low price for each ticker and date\n",
    "    \"\"\"\n",
    "    #TODO: Implement function\n",
    "\n",
    "    return None, None\n",
    "\n",
    "project_tests.test_get_high_lows_lookback(get_high_lows_lookback)"
   ]
  },
  {
   "cell_type": "markdown",
   "metadata": {},
   "source": [
    "### 查看数据\n",
    "我们使用 `get_high_lows_lookback` 获取过去 50 天的高低价格，并与相应的股票进行比较。与之前一样，我们将以 Apple 股票为例。"
   ]
  },
  {
   "cell_type": "code",
   "execution_count": null,
   "metadata": {},
   "outputs": [],
   "source": [
    "lookback_days = 50\n",
    "lookback_high, lookback_low = get_high_lows_lookback(high, low, lookback_days)\n",
    "project_helper_zh.plot_high_low(\n",
    "    close[apple_ticker],\n",
    "    lookback_high[apple_ticker],\n",
    "    lookback_low[apple_ticker],\n",
    "    'High and Low of {} Stock'.format(apple_ticker))"
   ]
  },
  {
   "cell_type": "markdown",
   "metadata": {},
   "source": [
    "## 计算做多和做空信号\n",
    "根据生成的最高和最低价格信号，利用突破策略创建做多和做空信号。实现 `get_long_short` 以生成以下信号：\n",
    "\n",
    "| 信号 | 条件 |\n",
    "|----|------|\n",
    "| -1 | 最低价 > 收盘价 |\n",
    "| 1  | 最高价 < 收盘价 |\n",
    "| 0  | 其他 |\n",
    "\n",
    "在此图表中，**收盘价**是 `close` 参数。**最低价**和**最高价**是 `get_high_lows_lookback` 生成的  `lookback_high` 和 `lookback_low` 参数。"
   ]
  },
  {
   "cell_type": "code",
   "execution_count": null,
   "metadata": {},
   "outputs": [],
   "source": [
    "def get_long_short(close, lookback_high, lookback_low):\n",
    "    \"\"\"\n",
    "    Generate the signals long, short, and do nothing.\n",
    "    \n",
    "    Parameters\n",
    "    ----------\n",
    "    close : DataFrame\n",
    "        Close price for each ticker and date\n",
    "    lookback_high : DataFrame\n",
    "        Lookback high price for each ticker and date\n",
    "    lookback_low : DataFrame\n",
    "        Lookback low price for each ticker and date\n",
    "    \n",
    "    Returns\n",
    "    -------\n",
    "    long_short : DataFrame\n",
    "        The long, short, and do nothing signals for each ticker and date\n",
    "    \"\"\"\n",
    "    #TODO: Implement function\n",
    "    \n",
    "    return None\n",
    "\n",
    "project_tests.test_get_long_short(get_long_short)"
   ]
  },
  {
   "cell_type": "markdown",
   "metadata": {},
   "source": [
    "### 查看数据\n",
    "我们将你创建的信号与收盘价进行比较。此图表将显示很多信号。实际上太多了。我们将在下个问题中讨论如何滤除多余的信号。"
   ]
  },
  {
   "cell_type": "code",
   "execution_count": null,
   "metadata": {},
   "outputs": [],
   "source": [
    "signal = get_long_short(close, lookback_high, lookback_low)\n",
    "project_helper_zh.plot_signal(\n",
    "    close[apple_ticker],\n",
    "    signal[apple_ticker],\n",
    "    'Long and Short of {} Stock'.format(apple_ticker))"
   ]
  },
  {
   "cell_type": "markdown",
   "metadata": {},
   "source": [
    "## 滤除信号\n",
    "重复信号太多了！如果我们已经做空股票，再有一个做空信号并没有多大作用。如果上一个信号是做多信号，那么再有其他做多信号也一样多余。\n",
    "\n",
    "实现 `filter_signals` 以滤除 `lookahead_days` 中重复出现的做多或做空信号。如果上个信号一样，将信号变成 `0` （什么也不做信号）。例如，假设有一个如下所示的股票时序：\n",
    "\n",
    "`[1, 0, 1, 0, 1, 0, -1, -1]`\n",
    "\n",
    "运行 `filter_signals` 并向前看 3 天会将信号变成：\n",
    "\n",
    "`[1, 0, 0, 0, 1, 0, -1, 0]`\n",
    "\n",
    "为了帮助你实现该函数，我们提供了 `clear_signals` 函数。它会删除窗口中上个信号之后的所有信号。例如，假设将 `clear_signals` 的窗口大小设为 3，它会将以下做多信号序列：\n",
    "\n",
    "`[0, 1, 0, 0, 1, 1, 0, 1, 0]`\n",
    "\n",
    "变成\n",
    "\n",
    "`[0, 1, 0, 0, 0, 1, 0, 0, 0]`\n",
    "\n",
    "`clear_signals` 仅接受信号类型一样的序列，其中 `1` 表示信号，`0` 表示没有信号。不能将做多和做空信号混合到一起。请使用此函数实现  `filter_signals`。\n",
    "\n",
    "在实现 `filter_signals` 时，不建议寻找向量化解。应该针对每列使用 [`iterrows`](https://pandas.pydata.org/pandas-docs/version/0.21/generated/pandas.DataFrame.iterrows.html)。"
   ]
  },
  {
   "cell_type": "code",
   "execution_count": null,
   "metadata": {},
   "outputs": [],
   "source": [
    "def clear_signals(signals, window_size):\n",
    "    \"\"\"\n",
    "    Clear out signals in a Series of just long or short signals.\n",
    "    \n",
    "    Remove the number of signals down to 1 within the window size time period.\n",
    "    \n",
    "    Parameters\n",
    "    ----------\n",
    "    signals : Pandas Series\n",
    "        The long, short, or do nothing signals\n",
    "    window_size : int\n",
    "        The number of days to have a single signal       \n",
    "    \n",
    "    Returns\n",
    "    -------\n",
    "    signals : Pandas Series\n",
    "        Signals with the signals removed from the window size\n",
    "    \"\"\"\n",
    "    # Start with buffer of window size\n",
    "    # This handles the edge case of calculating past_signal in the beginning\n",
    "    clean_signals = [0]*window_size\n",
    "    \n",
    "    for signal_i, current_signal in enumerate(signals):\n",
    "        # Check if there was a signal in the past window_size of days\n",
    "        has_past_signal = bool(sum(clean_signals[signal_i:signal_i+window_size]))\n",
    "        # Use the current signal if there's no past signal, else 0/False\n",
    "        clean_signals.append(not has_past_signal and current_signal)\n",
    "        \n",
    "    # Remove buffer\n",
    "    clean_signals = clean_signals[window_size:]\n",
    "\n",
    "    # Return the signals as a Series of Ints\n",
    "    return pd.Series(np.array(clean_signals).astype(np.int), signals.index)\n",
    "\n",
    "\n",
    "def filter_signals(signal, lookahead_days):\n",
    "    \"\"\"\n",
    "    Filter out signals in a DataFrame.\n",
    "    \n",
    "    Parameters\n",
    "    ----------\n",
    "    signal : DataFrame\n",
    "        The long, short, and do nothing signals for each ticker and date\n",
    "    lookahead_days : int\n",
    "        The number of days to look ahead\n",
    "    \n",
    "    Returns\n",
    "    -------\n",
    "    filtered_signal : DataFrame\n",
    "        The filtered long, short, and do nothing signals for each ticker and date\n",
    "    \"\"\"\n",
    "    #TODO: Implement function\n",
    "    \n",
    "    return None\n",
    "\n",
    "project_tests.test_filter_signals(filter_signals)"
   ]
  },
  {
   "cell_type": "markdown",
   "metadata": {},
   "source": [
    "### 查看数据\n",
    "下面看看之前的同一图表，但是删除了多余的信号。"
   ]
  },
  {
   "cell_type": "code",
   "execution_count": null,
   "metadata": {},
   "outputs": [],
   "source": [
    "signal_5 = filter_signals(signal, 5)\n",
    "signal_10 = filter_signals(signal, 10)\n",
    "signal_20 = filter_signals(signal, 20)\n",
    "for signal_data, signal_days in [(signal_5, 5), (signal_10, 10), (signal_20, 20)]:\n",
    "    project_helper_zh.plot_signal(\n",
    "        close[apple_ticker],\n",
    "        signal_data[apple_ticker],\n",
    "        'Long and Short of {} Stock with {} day signal window'.format(apple_ticker, signal_days))"
   ]
  },
  {
   "cell_type": "markdown",
   "metadata": {},
   "source": [
    "## 前瞻收盘价\n",
    "创建了交易信号后，我们将判断应该做多或做空多少天的股票。在此问题中，请实现 `get_lookahead_prices` 以获取提前几天的收盘价。你可以从变量 `lookahead_days` 中获取天数。我们将在另一个问题中使用前瞻价格计算未来收益率。"
   ]
  },
  {
   "cell_type": "code",
   "execution_count": null,
   "metadata": {},
   "outputs": [],
   "source": [
    "def get_lookahead_prices(close, lookahead_days):\n",
    "    \"\"\"\n",
    "    Get the lookahead prices for `lookahead_days` number of days.\n",
    "    \n",
    "    Parameters\n",
    "    ----------\n",
    "    close : DataFrame\n",
    "        Close price for each ticker and date\n",
    "    lookahead_days : int\n",
    "        The number of days to look ahead\n",
    "    \n",
    "    Returns\n",
    "    -------\n",
    "    lookahead_prices : DataFrame\n",
    "        The lookahead prices for each ticker and date\n",
    "    \"\"\"\n",
    "    #TODO: Implement function\n",
    "    \n",
    "    return None\n",
    "\n",
    "project_tests.test_get_lookahead_prices(get_lookahead_prices)"
   ]
  },
  {
   "cell_type": "markdown",
   "metadata": {},
   "source": [
    "### 查看数据\n",
    "我们使用 `get_lookahead_prices` 函数生成 5 天、10 天和 20 天的前瞻收盘价。\n",
    "\n",
    "我们绘制几个月（而不是几年）的 Apple 股票图表，以便查看 5 天、10 天和 20 天前瞻期的区别。否则，在查看缩小的图表时，数据将挤在一起。"
   ]
  },
  {
   "cell_type": "code",
   "execution_count": null,
   "metadata": {},
   "outputs": [],
   "source": [
    "lookahead_5 = get_lookahead_prices(close, 5)\n",
    "lookahead_10 = get_lookahead_prices(close, 10)\n",
    "lookahead_20 = get_lookahead_prices(close, 20)\n",
    "project_helper_zh.plot_lookahead_prices(\n",
    "    close[apple_ticker].iloc[150:250],\n",
    "    [\n",
    "        (lookahead_5[apple_ticker].iloc[150:250], 5),\n",
    "        (lookahead_10[apple_ticker].iloc[150:250], 10),\n",
    "        (lookahead_20[apple_ticker].iloc[150:250], 20)],\n",
    "    '5, 10, and 20 day Lookahead Prices for Slice of {} Stock'.format(apple_ticker))"
   ]
  },
  {
   "cell_type": "markdown",
   "metadata": {},
   "source": [
    "## 前瞻价格收益率\n",
    "实现 `get_return_lookahead` 以生成收盘价和前瞻价格间的对数收益率 。"
   ]
  },
  {
   "cell_type": "code",
   "execution_count": null,
   "metadata": {},
   "outputs": [],
   "source": [
    "def get_return_lookahead(close, lookahead_prices):\n",
    "    \"\"\"\n",
    "    Calculate the log returns from the lookahead days to the signal day.\n",
    "    \n",
    "    Parameters\n",
    "    ----------\n",
    "    close : DataFrame\n",
    "        Close price for each ticker and date\n",
    "    lookahead_prices : DataFrame\n",
    "        The lookahead prices for each ticker and date\n",
    "    \n",
    "    Returns\n",
    "    -------\n",
    "    lookahead_returns : DataFrame\n",
    "        The lookahead log returns for each ticker and date\n",
    "    \"\"\"\n",
    "    #TODO: Implement function\n",
    "    \n",
    "    return None\n",
    "\n",
    "project_tests.test_get_return_lookahead(get_return_lookahead)"
   ]
  },
  {
   "cell_type": "markdown",
   "metadata": {},
   "source": [
    "### 查看数据\n",
    "我们将通过与上个问题相同的前瞻价格和部分 Apple 股票数据，查看前瞻收益率。\n",
    "\n",
    "为了在股票图表上查看价格收益率，我们将添加第二个 y 轴。在查看此图表时，股价坐标轴将位于左侧，与之前的图表一样。价格收益率的坐标轴将位于右侧。"
   ]
  },
  {
   "cell_type": "code",
   "execution_count": null,
   "metadata": {},
   "outputs": [],
   "source": [
    "price_return_5 = get_return_lookahead(close, lookahead_5)\n",
    "price_return_10 = get_return_lookahead(close, lookahead_10)\n",
    "price_return_20 = get_return_lookahead(close, lookahead_20)\n",
    "project_helper_zh.plot_price_returns(\n",
    "    close[apple_ticker].iloc[150:250],\n",
    "    [\n",
    "        (price_return_5[apple_ticker].iloc[150:250], 5),\n",
    "        (price_return_10[apple_ticker].iloc[150:250], 10),\n",
    "        (price_return_20[apple_ticker].iloc[150:250], 20)],\n",
    "    '5, 10, and 20 day Lookahead Returns for Slice {} Stock'.format(apple_ticker))"
   ]
  },
  {
   "cell_type": "markdown",
   "metadata": {},
   "source": [
    "## 计算信号收益率\n",
    "根据价格收益率生成信号收益率。"
   ]
  },
  {
   "cell_type": "code",
   "execution_count": null,
   "metadata": {},
   "outputs": [],
   "source": [
    "def get_signal_return(signal, lookahead_returns):\n",
    "    \"\"\"\n",
    "    Compute the signal returns.\n",
    "    \n",
    "    Parameters\n",
    "    ----------\n",
    "    signal : DataFrame\n",
    "        The long, short, and do nothing signals for each ticker and date\n",
    "    lookahead_returns : DataFrame\n",
    "        The lookahead log returns for each ticker and date\n",
    "    \n",
    "    Returns\n",
    "    -------\n",
    "    signal_return : DataFrame\n",
    "        Signal returns for each ticker and date\n",
    "    \"\"\"\n",
    "    #TODO: Implement function\n",
    "    \n",
    "    return None\n",
    "\n",
    "project_tests.test_get_signal_return(get_signal_return)"
   ]
  },
  {
   "cell_type": "markdown",
   "metadata": {},
   "source": [
    "### 查看数据\n",
    "继续使用之前的前瞻价格查看信号收益率。与之前一样，信号收益率的坐标轴位于图表的右侧。"
   ]
  },
  {
   "cell_type": "code",
   "execution_count": null,
   "metadata": {},
   "outputs": [],
   "source": [
    "title_string = '{} day LookaheadSignal Returns for {} Stock'\n",
    "signal_return_5 = get_signal_return(signal_5, price_return_5)\n",
    "signal_return_10 = get_signal_return(signal_10, price_return_10)\n",
    "signal_return_20 = get_signal_return(signal_20, price_return_20)\n",
    "project_helper_zh.plot_signal_returns(\n",
    "    close[apple_ticker],\n",
    "    [\n",
    "        (signal_return_5[apple_ticker], signal_5[apple_ticker], 5),\n",
    "        (signal_return_10[apple_ticker], signal_10[apple_ticker], 10),\n",
    "        (signal_return_20[apple_ticker], signal_20[apple_ticker], 20)],\n",
    "    [title_string.format(5, apple_ticker), title_string.format(10, apple_ticker), title_string.format(20, apple_ticker)])"
   ]
  },
  {
   "cell_type": "markdown",
   "metadata": {},
   "source": [
    "## 显著性检验\n",
    "### 直方图\n",
    "下面绘制信号收益率的直方图。"
   ]
  },
  {
   "cell_type": "code",
   "execution_count": null,
   "metadata": {},
   "outputs": [],
   "source": [
    "project_helper_zh.plot_signal_histograms(\n",
    "    [signal_return_5, signal_return_10, signal_return_20],\n",
    "    'Signal Return',\n",
    "    ('5 Days', '10 Days', '20 Days'))"
   ]
  },
  {
   "cell_type": "markdown",
   "metadata": {},
   "source": [
    "### 问题：从直方图中能看出信号收益率有哪些特征？\n",
    "\n",
    "*#TODO：请在此单元格中填写答案*\n",
    "\n",
    "## 离群值\n",
    "你可能在 10 天和 20 天直方图中看到了一些离群值。为了更好地可视化这些离群值，我们将 5 天、10 天和 20 天信号收益率与正态分布的信号收益率进行比较（每个信号收益率分布的均值和标准差都一样）。"
   ]
  },
  {
   "cell_type": "code",
   "execution_count": null,
   "metadata": {},
   "outputs": [],
   "source": [
    "project_helper_zh.plot_signal_to_normal_histograms(\n",
    "    [signal_return_5, signal_return_10, signal_return_20],\n",
    "    'Signal Return',\n",
    "    ('5 Days', '10 Days', '20 Days'))"
   ]
  },
  {
   "cell_type": "markdown",
   "metadata": {},
   "source": [
    "## Kolmogorov-Smirnov 检验\n",
    "发现直方图中的离群值后，我们需要找到导致这些离群收益率的股票。我们将使用 Kolmogorov-Smirnov 检验（简称 KS-检验）。我们会将此检验应用到存在做多或做空信号的每个股票信号收益率上。"
   ]
  },
  {
   "cell_type": "code",
   "execution_count": null,
   "metadata": {},
   "outputs": [],
   "source": [
    "# Filter out returns that don't have a long or short signal.\n",
    "long_short_signal_returns_5 = signal_return_5[signal_5 != 0].stack()\n",
    "long_short_signal_returns_10 = signal_return_10[signal_10 != 0].stack()\n",
    "long_short_signal_returns_20 = signal_return_20[signal_20 != 0].stack()\n",
    "\n",
    "# Get just ticker and signal return\n",
    "long_short_signal_returns_5 = long_short_signal_returns_5.reset_index().iloc[:, [1,2]]\n",
    "long_short_signal_returns_5.columns = ['ticker', 'signal_return']\n",
    "long_short_signal_returns_10 = long_short_signal_returns_10.reset_index().iloc[:, [1,2]]\n",
    "long_short_signal_returns_10.columns = ['ticker', 'signal_return']\n",
    "long_short_signal_returns_20 = long_short_signal_returns_20.reset_index().iloc[:, [1,2]]\n",
    "long_short_signal_returns_20.columns = ['ticker', 'signal_return']\n",
    "\n",
    "# View some of the data\n",
    "long_short_signal_returns_5.head(10)"
   ]
  },
  {
   "cell_type": "markdown",
   "metadata": {},
   "source": [
    "上述代码会提供要在 KS-检验中使用的数据。\n",
    "\n",
    "下面实现函数 `calculate_kstest` 以使用 Kolmogorov-Smirnov 检验（KS 检验）对比正态分布和每个股票的信号收益率分布。针对每个股票的信号收益率在正态分布上运行 KS 检验。使用 [`scipy.stats.kstest`](https://docs.scipy.org/doc/scipy-0.14.0/reference/generated/scipy.stats.kstest.html#scipy-stats-kstest) 进行 KS 检验。在计算信号收益率的标准差时，请将自由度设为 0。\n",
    "\n",
    "对于此函数，不建议寻找向量化解。请迭代更新 [`groupby`](https://pandas.pydata.org/pandas-docs/version/0.21/generated/pandas.DataFrame.groupby.html) 函数。"
   ]
  },
  {
   "cell_type": "code",
   "execution_count": null,
   "metadata": {},
   "outputs": [],
   "source": [
    "from scipy.stats import kstest\n",
    "\n",
    "\n",
    "def calculate_kstest(long_short_signal_returns):\n",
    "    \"\"\"\n",
    "    Calculate the KS-Test against the signal returns with a long or short signal.\n",
    "    \n",
    "    Parameters\n",
    "    ----------\n",
    "    long_short_signal_returns : DataFrame\n",
    "        The signal returns which have a signal.\n",
    "        This DataFrame contains two columns, \"ticker\" and \"signal_return\"\n",
    "    \n",
    "    Returns\n",
    "    -------\n",
    "    ks_values : Pandas Series\n",
    "        KS static for all the tickers\n",
    "    p_values : Pandas Series\n",
    "        P value for all the tickers\n",
    "    \"\"\"\n",
    "    #TODO: Implement function\n",
    "    \n",
    "    return None, None\n",
    "\n",
    "\n",
    "project_tests.test_calculate_kstest(calculate_kstest)"
   ]
  },
  {
   "cell_type": "markdown",
   "metadata": {},
   "source": [
    "### 查看数据\n",
    "使用在上面创建的信号收益率计算 ks 和 p 值。"
   ]
  },
  {
   "cell_type": "code",
   "execution_count": null,
   "metadata": {},
   "outputs": [],
   "source": [
    "ks_values_5, p_values_5 = calculate_kstest(long_short_signal_returns_5)\n",
    "ks_values_10, p_values_10 = calculate_kstest(long_short_signal_returns_10)\n",
    "ks_values_20, p_values_20 = calculate_kstest(long_short_signal_returns_20)\n",
    "\n",
    "print('ks_values_5')\n",
    "print(ks_values_5.head(10))\n",
    "print('p_values_5')\n",
    "print(p_values_5.head(10))"
   ]
  },
  {
   "cell_type": "markdown",
   "metadata": {},
   "source": [
    "## 查找离群值\n",
    "计算 ks 和 p 值后，我们看看哪些股票是离群值。实现 `find_outliers` 函数以查找以下离群值：\n",
    "- 通过零假设的代码，即 p 值小于 `pvalue_threshold`。\n",
    "- KS 值大于 `ks_threshold` 的代码。"
   ]
  },
  {
   "cell_type": "code",
   "execution_count": null,
   "metadata": {},
   "outputs": [],
   "source": [
    "def find_outliers(ks_values, p_values, ks_threshold, pvalue_threshold=0.05):\n",
    "    \"\"\"\n",
    "    Find outlying symbols using KS values and P-values\n",
    "    \n",
    "    Parameters\n",
    "    ----------\n",
    "    ks_values : Pandas Series\n",
    "        KS static for all the tickers\n",
    "    p_values : Pandas Series\n",
    "        P value for all the tickers\n",
    "    ks_threshold : float\n",
    "        The threshold for the KS statistic\n",
    "    pvalue_threshold : float\n",
    "        The threshold for the p-value\n",
    "    \n",
    "    Returns\n",
    "    -------\n",
    "    outliers : set of str\n",
    "        Symbols that are outliers\n",
    "    \"\"\"\n",
    "    #TODO: Implement function\n",
    "    \n",
    "    return None\n",
    "\n",
    "\n",
    "project_tests.test_find_outliers(find_outliers)"
   ]
  },
  {
   "cell_type": "markdown",
   "metadata": {},
   "source": [
    "### 查看数据\n",
    "使用你实现的 `find_outliers` 函数看看我们查找到哪些代码。"
   ]
  },
  {
   "cell_type": "code",
   "execution_count": null,
   "metadata": {},
   "outputs": [],
   "source": [
    "ks_threshold = 0.8\n",
    "outliers_5 = find_outliers(ks_values_5, p_values_5, ks_threshold)\n",
    "outliers_10 = find_outliers(ks_values_10, p_values_10, ks_threshold)\n",
    "outliers_20 = find_outliers(ks_values_20, p_values_20, ks_threshold)\n",
    "\n",
    "outlier_tickers = outliers_5.union(outliers_10).union(outliers_20)\n",
    "print('{} Outliers Found:\\n{}'.format(len(outlier_tickers), ', '.join(list(outlier_tickers))))"
   ]
  },
  {
   "cell_type": "markdown",
   "metadata": {},
   "source": [
    "### 显示没有离群值的信号统计显著性\n",
    "将没有离群值的 5 天、10 天和 20 天信号收益率与正态分布进行比较，并且看看在删除离群值后，p 值有何变化。"
   ]
  },
  {
   "cell_type": "code",
   "execution_count": null,
   "metadata": {},
   "outputs": [],
   "source": [
    "good_tickers = list(set(close.columns) - outlier_tickers)\n",
    "\n",
    "project_helper_zh.plot_signal_to_normal_histograms(\n",
    "    [signal_return_5[good_tickers], signal_return_10[good_tickers], signal_return_20[good_tickers]],\n",
    "    'Signal Return Without Outliers',\n",
    "    ('5 Days', '10 Days', '20 Days'))"
   ]
  },
  {
   "cell_type": "markdown",
   "metadata": {},
   "source": [
    "更符合预期了。收益率更接近正态分布。你已经完成了突破策略的研究阶段，可以提交项目了。\n",
    "## 提交项目\n",
    "完成项目后，就可以提交了。请点击右下角的提交按钮。我们的审阅专家将对项目打分（通过或不通过）并提供反馈。在等待反馈期间，你可以继续学习下个部分。"
   ]
  }
 ],
 "metadata": {
  "kernelspec": {
   "display_name": "Python 3",
   "language": "python",
   "name": "python3"
  },
  "language_info": {
   "codemirror_mode": {
    "name": "ipython",
    "version": 3
   },
   "file_extension": ".py",
   "mimetype": "text/x-python",
   "name": "python",
   "nbconvert_exporter": "python",
   "pygments_lexer": "ipython3",
   "version": "3.6.3"
  }
 },
 "nbformat": 4,
 "nbformat_minor": 2
}